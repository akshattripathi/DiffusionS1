{
  "nbformat": 4,
  "nbformat_minor": 0,
  "metadata": {
    "colab": {
      "name": "linear_NN.ipynb",
      "provenance": [],
      "collapsed_sections": [],
      "machine_shape": "hm"
    },
    "kernelspec": {
      "name": "python3",
      "display_name": "Python 3"
    },
    "accelerator": "GPU"
  },
  "cells": [
    {
      "cell_type": "code",
      "metadata": {
        "id": "1QB9HEY-y1tq",
        "colab_type": "code",
        "colab": {
          "base_uri": "https://localhost:8080/",
          "height": 34
        },
        "outputId": "cb804d9f-e1eb-4560-ce4e-69b497ecd774"
      },
      "source": [
        "%matplotlib inline\n",
        "from google.colab import drive\n",
        "drive.mount('/content/drive/')"
      ],
      "execution_count": null,
      "outputs": [
        {
          "output_type": "stream",
          "text": [
            "Drive already mounted at /content/drive/; to attempt to forcibly remount, call drive.mount(\"/content/drive/\", force_remount=True).\n"
          ],
          "name": "stdout"
        }
      ]
    },
    {
      "cell_type": "code",
      "metadata": {
        "id": "S19PuRKL0V6C",
        "colab_type": "code",
        "colab": {}
      },
      "source": [
        "import pandas as pd\n",
        "import numpy as np\n",
        "from random import shuffle\n",
        "import math\n",
        "import json\n",
        "import h5py\n",
        "import inspect\n",
        "import matplotlib.pyplot as plt\n",
        "from sklearn.cluster import DBSCAN\n",
        "from mpl_toolkits import mplot3d\n",
        "from tensorflow.keras.models import Sequential\n",
        "from tensorflow.keras.layers import Dense\n",
        "from tensorflow.keras.layers import Flatten\n",
        "from tensorflow.keras.layers import Dropout\n",
        "from tensorflow.keras.callbacks import EarlyStopping\n",
        "import warnings\n",
        "warnings.filterwarnings('ignore')"
      ],
      "execution_count": null,
      "outputs": []
    },
    {
      "cell_type": "code",
      "metadata": {
        "id": "0Kp8iaFF0uRn",
        "colab_type": "code",
        "colab": {
          "base_uri": "https://localhost:8080/",
          "height": 197
        },
        "outputId": "9a152b52-4dcc-4caa-b55f-8ec7d12e93b0"
      },
      "source": [
        "# You may have to change this line given your layout of directories\n",
        "cur_dir = './drive/My Drive/Diffusion_S1/DNN/'\n",
        "data = pd.read_hdf(cur_dir + 'output_files/strack_events.h5', '/RECO/Events')"
      ],
      "execution_count": 2,
      "outputs": [
        {
          "output_type": "error",
          "ename": "NameError",
          "evalue": "ignored",
          "traceback": [
            "\u001b[0;31m---------------------------------------------------------------------------\u001b[0m",
            "\u001b[0;31mNameError\u001b[0m                                 Traceback (most recent call last)",
            "\u001b[0;32m<ipython-input-2-5670247b9c36>\u001b[0m in \u001b[0;36m<module>\u001b[0;34m()\u001b[0m\n\u001b[1;32m      1\u001b[0m \u001b[0;31m# You may have to change this line given your layout of directories\u001b[0m\u001b[0;34m\u001b[0m\u001b[0;34m\u001b[0m\u001b[0;34m\u001b[0m\u001b[0m\n\u001b[1;32m      2\u001b[0m \u001b[0mcur_dir\u001b[0m \u001b[0;34m=\u001b[0m \u001b[0;34m'./drive/My Drive/Diffusion_S1/DNN/'\u001b[0m\u001b[0;34m\u001b[0m\u001b[0;34m\u001b[0m\u001b[0m\n\u001b[0;32m----> 3\u001b[0;31m \u001b[0mdata\u001b[0m \u001b[0;34m=\u001b[0m \u001b[0mpd\u001b[0m\u001b[0;34m.\u001b[0m\u001b[0mread_hdf\u001b[0m\u001b[0;34m(\u001b[0m\u001b[0mcur_dir\u001b[0m \u001b[0;34m+\u001b[0m \u001b[0;34m'output_files/strack_events.h5'\u001b[0m\u001b[0;34m,\u001b[0m \u001b[0;34m'/RECO/Events'\u001b[0m\u001b[0;34m)\u001b[0m\u001b[0;34m\u001b[0m\u001b[0;34m\u001b[0m\u001b[0m\n\u001b[0m",
            "\u001b[0;31mNameError\u001b[0m: name 'pd' is not defined"
          ]
        }
      ]
    },
    {
      "cell_type": "code",
      "metadata": {
        "id": "oHqQL6PQZmua",
        "colab_type": "code",
        "colab": {}
      },
      "source": [
        "#The lines below take quite a while to run, so I hard-coded the values\n",
        "#below to avoid wasting that time\n",
        "\n",
        "#x_all, y_all, z_all = [], [], []\n",
        "#for event in data.event.unique():\n",
        "#    my_event = data[data.event == event]\n",
        "#    image_3d = np.stack((my_event.X, my_event.Y, my_event.Z), axis=1)\n",
        "#    db = DBSCAN(eps=20, min_samples=30).fit(image_3d)\n",
        "#    clusters = np.array(db.fit_predict(image_3d))\n",
        "#    indices = np.array([i for i, x in enumerate(clusters) if x == 0])\n",
        "#    X_ = np.array(my_event.X)[indices]\n",
        "#    Y_ = np.array(my_event.Y)[indices]\n",
        "#    Z_ = np.array(my_event.Z)[indices]\n",
        "#    x_all.append(max(X_) - min(X_))\n",
        "#    y_all.append(max(Y_) - min(Y_))\n",
        "#    z_all.append(max(Z_) - min(Z_))\n",
        "#x_range, y_range, z_range = max(x_all), max(y_all), math.ceil(max(z_all))"
      ],
      "execution_count": null,
      "outputs": []
    },
    {
      "cell_type": "code",
      "metadata": {
        "id": "_f1HbhfkkGIE",
        "colab_type": "code",
        "colab": {
          "base_uri": "https://localhost:8080/",
          "height": 34
        },
        "outputId": "bfd31594-4f39-42a8-cec8-727347d183e4"
      },
      "source": [
        "x_range, y_range, z_range = 280.0, 290.0, 236\n",
        "X_shape = int(x_range/10) + 2\n",
        "Y_shape = int(y_range/10) + 1\n",
        "print(X_shape, Y_shape, x_range, y_range, z_range)"
      ],
      "execution_count": null,
      "outputs": [
        {
          "output_type": "stream",
          "text": [
            "30 30 280.0 290.0 236\n"
          ],
          "name": "stdout"
        }
      ]
    },
    {
      "cell_type": "code",
      "metadata": {
        "id": "K6_6DoqtjPLL",
        "colab_type": "code",
        "colab": {}
      },
      "source": [
        "# The original data has coordinates in multiples of 10 in X & Y. When you take that and convert\n",
        "# to a numypy array to make an \"image array\", it takes a lot of space, the code below, hence,\n",
        "# divides by that to make the output image smaller\n",
        "def coord_to_image(X, Y, E):\n",
        "    image = np.zeros((X_shape, Y_shape))\n",
        "    for i in range(len(X)):\n",
        "        if (X[i]%10 == 0) and (Y[i]%10 == 0):\n",
        "            image[int(Y[i]/10)][int(X[i]/10)] = E[i]\n",
        "    return image\n",
        "\n",
        "# After the transformations are applied, the size of the image is already cropped from before, so\n",
        "# we don't need that division by 10 here\n",
        "def coord_to_image_plain(X, Y, E):\n",
        "    image = np.zeros((X_shape, Y_shape))\n",
        "    for i in range(len(X)):\n",
        "        image[int(Y[i])][int(X[i])] = E[i]\n",
        "    return image\n",
        "\n",
        "def image_to_coord(image):\n",
        "    Z = np.nonzero(image)[0]\n",
        "    Y = np.nonzero(image)[1]\n",
        "    X = np.nonzero(image)[2]\n",
        "    E = image[np.where(image!=0)]\n",
        "    return X, Y, Z, E\n",
        "\n",
        "# This class is used to make various transformations of the original event to get more samples to train on\n",
        "# The keras' imagedatagenerator method sometimes repeats the original image, which may have lead to \n",
        "# over-training so I thought it would be best to code the transformations myself\n",
        "# The doc line for the method flip_z that says \"flip_z\" should not be changes as process_data uses\n",
        "# that information to change the value that the model should predict for that particular\n",
        "# transformation\n",
        "class Transform(object):\n",
        "    def __init__(self, image):\n",
        "        \"\"\"init\"\"\"\n",
        "        self.image = image\n",
        "        return None\n",
        "    def no_change(self):\n",
        "        X, Y, Z, E = image_to_coord(self.image)\n",
        "        Z = Z - min(Z)\n",
        "        fig = plt.figure()\n",
        "        return X, Y, Z, E\n",
        "    def flip_z(self):\n",
        "        \"\"\"flip_z\"\"\"\n",
        "        z_image = np.flip(self.image, 0)\n",
        "        X, Y, Z, E = image_to_coord(z_image)\n",
        "        Z = Z - min(Z)\n",
        "        return X, Y, Z, E\n",
        "    def flip_y(self):\n",
        "        y_image = np.flip(self.image, 1)\n",
        "        X, Y, Z, E = image_to_coord(y_image)\n",
        "        Y = Y - min(Y)\n",
        "        return X, Y, Z, E\n",
        "    def flip_x(self):\n",
        "        x_image = np.flip(self.image, 2)\n",
        "        X, Y, Z, E = image_to_coord(x_image)\n",
        "        X = X - min(X)\n",
        "        return X, Y, Z, E\n",
        "\n",
        "# This function takes in X,Y,Z,E coordinates and converts that to a numpy array\n",
        "# It slices the Z coordinates based on a range, so for instance, if your Z coordinates are\n",
        "# 1.2, 1.4, 2.5, 2.6, 2.7\n",
        "# and your slice happens to be of \"size 1\", the coordinates will conver to:\n",
        "# 1, 1, 2, 2, 2\n",
        "# z_step determines the width of the slices, the smallest this argument can be is 1\n",
        "def convert_to_3D(X_, Y_, Z_, E_, z_step):\n",
        "    my_event = pd.DataFrame({'X' : X_, 'Y' : Y_, 'Z' : Z_, 'E' : E_})\n",
        "    Z = my_event.Z\n",
        "    event_image = []\n",
        "    for z in range(math.floor(min(Z)), math.floor(min(Z)) + z_range + z_step, z_step):\n",
        "        z_slice = Z[(Z >= z) & (Z < z+z_step)]\n",
        "        z_slice = z_slice.unique()\n",
        "        num_z_slices = len(z_slice)\n",
        "        if num_z_slices == 0:\n",
        "            X = [0, 0]\n",
        "            Y = [0, 0]\n",
        "            E = [0, 0]\n",
        "            image_x_y = coord_to_image(X, Y, E)\n",
        "        else:\n",
        "            z_count = 0\n",
        "            for each_z in z_slice:\n",
        "                event_slice = my_event[my_event.Z == each_z]\n",
        "                X = list(event_slice.X)\n",
        "                Y = list(event_slice.Y)\n",
        "                E = list(event_slice.E)\n",
        "                if z_count == 0:\n",
        "                    image_x_y = coord_to_image(X, Y, E)\n",
        "                    z_count += 1\n",
        "                else:\n",
        "                    image_x_y += coord_to_image(X, Y, E)\n",
        "        event_image.append(image_x_y)\n",
        "    return np.array(event_image), image_x_y.shape[0], image_x_y.shape[1]\n",
        "\n",
        "# This is only slightly different from above since we do not need to crate z-slices anymore\n",
        "# The z-coordinates (when this function is called) are already integer slices, so this doesn't\n",
        "# bother with the slicing\n",
        "def convert_to_3D_plain(X_, Y_, Z_, E_, N):\n",
        "    my_event = pd.DataFrame({'X' : X_, 'Y' : Y_, 'Z' : Z_, 'E' : E_})\n",
        "    event_image = []\n",
        "    for z in range(math.floor(min(Z_)), max(Z_)):\n",
        "        X = list(my_event[my_event.Z == z].X)\n",
        "        Y = list(my_event[my_event.Z == z].Y)\n",
        "        E = list(my_event[my_event.Z == z].E)\n",
        "        image_x_y = coord_to_image_plain(X, Y, E)\n",
        "        event_image.append(image_x_y)\n",
        "    for z in range(N - (max(Z_) - min(Z_))):\n",
        "        X = [0, 0]\n",
        "        Y = [0, 0]\n",
        "        E = [0, 0]\n",
        "        image_x_y = coord_to_image(X, Y, E)\n",
        "        event_image.append(image_x_y)\n",
        "    return np.array(event_image)"
      ],
      "execution_count": 1,
      "outputs": []
    },
    {
      "cell_type": "code",
      "metadata": {
        "id": "2GSWRUiU2_s4",
        "colab_type": "code",
        "colab": {}
      },
      "source": [
        "def process_data(data, z_step, counter_start=0, counter_end=len(data.event.unique())):\n",
        "    train_data = []\n",
        "    train_output = []\n",
        "    counter = counter_start\n",
        "    for event in data.event.unique()[counter_start:counter_end]:\n",
        "        print(\"Onto #\" + str(counter))\n",
        "        my_event = data[data.event == event]\n",
        "        # this part takes the single track that was identified in prep_data and excludes\n",
        "        # all the background to get only the single track to be trained by the network\n",
        "        image_3d = np.stack((my_event.X, my_event.Y, my_event.Z), axis=1)\n",
        "        db = DBSCAN(eps=20, min_samples=30).fit(image_3d)\n",
        "        clusters = np.array(db.fit_predict(image_3d))\n",
        "        indices = np.array([i for i, x in enumerate(clusters) if x == 0])\n",
        "        # This part centers the entire event to ensure that the information about the \n",
        "        # true z coordinates (with the S1 signal) is removed from the event before it is\n",
        "        # fed to the network\n",
        "        X_ = np.array(my_event.X)[indices] - min(np.array(my_event.X)[indices])\n",
        "        Y_ = np.array(my_event.Y)[indices] - min(np.array(my_event.Y)[indices])\n",
        "        Z_ = np.array(my_event.Z)[indices] - min(np.array(my_event.Z)[indices])\n",
        "        E_ = np.array(my_event.E)[indices]\n",
        "        event_image, im_x_y_x, im_x_y_y = convert_to_3D(X_, Y_, Z_, E_,z_step)\n",
        "        T = Transform(event_image)\n",
        "        attrs = (getattr(T, name) for name in dir(T))\n",
        "        methods = filter(inspect.ismethod, attrs)\n",
        "        for method in methods:\n",
        "            try:\n",
        "                if method.__doc__ != \"init\":\n",
        "                    try:\n",
        "                        X, Y, Z, E = method()\n",
        "                    except:\n",
        "                        # there are some events that give an error, I haven't looked into them, but \n",
        "                        # there's only a handful so I chose to ignore them for the time being\n",
        "                        print(\"ERROR!! Event: \" + str(event))\n",
        "                        #fig = plt.figure()\n",
        "                        #ax = fig.add_subplot(111, projection='3d')\n",
        "                        #ax.scatter(X, Y, Z)\n",
        "                    test_image = convert_to_3D_plain(X, Y, Z, E, event_image.shape[0])\n",
        "                    test_image = np.reshape(test_image, -1)\n",
        "                    train_data.append(test_image)\n",
        "                    # this line ensures that the Z coordinate the network is trained on is of the uncropped event\n",
        "                    # so it gets the true Z position\n",
        "                    my_event = data[data.event == event]\n",
        "                    # In the transformation of flipping the event in the z-direction, it's possible that the event has \n",
        "                    # more hits at higher z values from the centroid than at lower z values, so when you make the flip\n",
        "                    # in z direction, the centroid will shift, this code ensures that you take the appropriate centroid value\n",
        "                    # to train your model on\n",
        "                    if method.__doc__ == \"flip_z\":\n",
        "                        centroid = (max(my_event.Z) - my_event.Z + min(my_event.Z)).mean()\n",
        "                    else:\n",
        "                        centroid = my_event.Z.mean()\n",
        "                    train_output.append([centroid])\n",
        "                    counter += 1\n",
        "            except TypeError:\n",
        "            # cannot handle methods that require arguments\n",
        "                pass\n",
        "    return np.array(train_data), np.array(train_output)"
      ],
      "execution_count": null,
      "outputs": []
    },
    {
      "cell_type": "code",
      "metadata": {
        "id": "gnAWHKF44CNJ",
        "colab_type": "code",
        "colab": {}
      },
      "source": [
        "# I did not get around to doing this part and that's why you don't see it being used anywhere below\n",
        "# This code takes the entire data and then splits it into different .h5 files\n",
        "# There was a tutorial I was following to be able to train large datasets without\n",
        "# getting a memory allocation here. Here's that tutorial:\n",
        "# https://medium.com/@selvam85/how-to-work-with-large-training-dataset-in-google-colab-platform-c3499fc10c24\n",
        "# Another option that I did not get around to trying was using the .fit_generator method\n",
        "# If I remember correctly, in process_data, you'd have to change return to a yield\n",
        "# and yield single events and then feed that to the network below\n",
        "def write_to_h5(dest_filepath, dest_batch, dataset_name):    \n",
        "    with h5py.File(dest_filepath, 'a') as f:\n",
        "        f.create_dataset(dataset_name, dest_batch)\n",
        "\n",
        "def create_minibatches_h5(data_arr, labels_arr, dest_path, batch_size):\n",
        "    \"\"\"To be run only once\"\"\"\n",
        "    t = list(zip(data_arr, labels_arr))\n",
        "    shuffle(t)\n",
        "    my_data, my_labels = zip(*t)\n",
        "    m = len(my_data)\n",
        "    n_complete_batches = math.ceil(float(m)/batch_size)\n",
        "    for i in range(n_complete_batches):\n",
        "        print(\"Creating file: \", (i+1))\n",
        "        dest_file = dest_path + str(i + 1) + \".h5\" \n",
        "        start_pos = i * batch_size\n",
        "        end_pos = min(start_pos + batch_size, m)\n",
        "        data_batch = my_data[start_pos:end_pos]\n",
        "        labels_batch = my_labels[start_pos:end_pos]\n",
        "        write_to_h5(dest_path + str(i+1), data_batch, \"minidata\")\n",
        "        write_to_h5(dest_path + str(i+1), labels_batch, \"minilabel\")"
      ],
      "execution_count": null,
      "outputs": []
    },
    {
      "cell_type": "code",
      "metadata": {
        "id": "010KxSS1XKNf",
        "colab_type": "code",
        "colab": {}
      },
      "source": [
        "# for reasons that are unclear, I could not get more than around 3600 events on a\n",
        "# single variable. It gives me a memory error but clearly the memory is not getting\n",
        "# full if you look to top right, but having the data split between two variables\n",
        "# works. Note that this is a separate issue from training on large data sets\n",
        "# This is just about being able to load data into memory, the other issue is training\n",
        "# such a large dataset on the GPU\n",
        "num_samples = len(data.event.unique())\n",
        "train_data, train_output = process_data(data, 2, 0, 3600)\n",
        "train_data_1, train_output_1 = process_data(data, 2, 3600, num_samples)"
      ],
      "execution_count": null,
      "outputs": []
    },
    {
      "cell_type": "code",
      "metadata": {
        "id": "hT4dFLBLnAYO",
        "colab_type": "code",
        "colab": {}
      },
      "source": [
        "para = json.load(open(cur_dir +  \"/config.json\"))\n",
        "val_split = 1 - para['train_test_split']\n",
        "num_epochs = para['epochs']\n",
        "n_cols = train_data[0].shape[0]\n",
        "print(n_cols)\n",
        "model = Sequential()\n",
        "model.add(Dense(2, activation='relu', input_shape=(n_cols, )))\n",
        "model.add(Dense(1))\n",
        "model.compile(optimizer='adam', loss='mean_absolute_error')\n",
        "model.summary()"
      ],
      "execution_count": null,
      "outputs": []
    },
    {
      "cell_type": "code",
      "metadata": {
        "id": "faGPHSD_nEdW",
        "colab_type": "code",
        "colab": {}
      },
      "source": [
        "history = model.fit(train_data, train_output, batch_size=32, validation_split=0.3, epochs=1000, shuffle=True)"
      ],
      "execution_count": null,
      "outputs": []
    },
    {
      "cell_type": "code",
      "metadata": {
        "id": "Q1Ef5xFNfgV9",
        "colab_type": "code",
        "colab": {}
      },
      "source": [
        "# Plot training & validation loss values\n",
        "plt.plot(history.history['loss'])\n",
        "plt.plot(history.history['val_loss'])\n",
        "plt.title('Model loss')\n",
        "plt.ylabel('Loss')\n",
        "plt.xlabel('Epoch')\n",
        "plt.legend(['Train', 'Test'], loc='upper left')\n",
        "plt.show()"
      ],
      "execution_count": null,
      "outputs": []
    },
    {
      "cell_type": "code",
      "metadata": {
        "id": "AYEpy2v1fxLi",
        "colab_type": "code",
        "colab": {}
      },
      "source": [
        "predict_data, output, predict_x, predict_y = [], [], [], []\n",
        "for event in range(0, len(train_data), 1):\n",
        "    predict_data.append(train_data[event])\n",
        "    output.append(train_output[event])\n",
        "    predict_x.append(train_x[event])\n",
        "    predict_y.append(train_y[event])"
      ],
      "execution_count": null,
      "outputs": []
    },
    {
      "cell_type": "code",
      "metadata": {
        "id": "cEEXLrrOgt-T",
        "colab_type": "code",
        "colab": {}
      },
      "source": [
        "predict_output = model.predict(np.array(predict_data))\n",
        "difference = abs(predict_output - output)"
      ],
      "execution_count": null,
      "outputs": []
    },
    {
      "cell_type": "code",
      "metadata": {
        "id": "g-bawmaowLgv",
        "colab_type": "code",
        "colab": {}
      },
      "source": [
        "plt.scatter(output, difference)"
      ],
      "execution_count": null,
      "outputs": []
    },
    {
      "cell_type": "code",
      "metadata": {
        "id": "Iq6G83adHD_f",
        "colab_type": "code",
        "colab": {}
      },
      "source": [
        "plt.scatter(output, predict_output)"
      ],
      "execution_count": null,
      "outputs": []
    },
    {
      "cell_type": "code",
      "metadata": {
        "id": "gpNtzBBPwSBu",
        "colab_type": "code",
        "colab": {}
      },
      "source": [
        "from mpl_toolkits.mplot3d import Axes3D\n",
        "fig = plt.figure()\n",
        "ax = fig.add_subplot(111, projection='3d')\n",
        "ax.scatter(predict_x, predict_y, difference)"
      ],
      "execution_count": null,
      "outputs": []
    },
    {
      "cell_type": "code",
      "metadata": {
        "id": "Fq6-zAK7z7C0",
        "colab_type": "code",
        "colab": {}
      },
      "source": [
        ""
      ],
      "execution_count": null,
      "outputs": []
    }
  ]
}